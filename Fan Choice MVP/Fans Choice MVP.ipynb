{
 "cells": [
  {
   "cell_type": "code",
   "execution_count": 2,
   "metadata": {
    "collapsed": false
   },
   "outputs": [
    {
     "name": "stdout",
     "output_type": "stream",
     "text": [
      "Established Twitter connection.\n"
     ]
    }
   ],
   "source": [
    "import ConfigParser\n",
    "from TwitterAPI import TwitterAPI\n",
    "\n",
    "def get_twitter(config_file):\n",
    "    \"\"\" Read the config_file and construct an instance of TwitterAPI.\n",
    "    Args:\n",
    "      config_file ... A config file in ConfigParser format with Twitter credentials\n",
    "    Returns:\n",
    "      An instance of TwitterAPI.\n",
    "    \"\"\"\n",
    "    config = ConfigParser.ConfigParser()\n",
    "    config.read(config_file)\n",
    "    twitter = TwitterAPI(\n",
    "                   config.get('twitter', 'consumer_key'),\n",
    "                   config.get('twitter', 'consumer_secret'),\n",
    "                   config.get('twitter', 'access_token'),\n",
    "                   config.get('twitter', 'access_token_secret'))\n",
    "    return twitter\n",
    "\n",
    "twitter = get_twitter('twitter.cfg')\n",
    "print 'Established Twitter connection.'"
   ]
  },
  {
   "cell_type": "code",
   "execution_count": 206,
   "metadata": {
    "collapsed": true
   },
   "outputs": [],
   "source": [
    "team_list={}\n",
    "tweets={}"
   ]
  },
  {
   "cell_type": "code",
   "execution_count": 118,
   "metadata": {
    "collapsed": true
   },
   "outputs": [
    {
     "ename": "KeyError",
     "evalue": "'name'",
     "output_type": "error",
     "traceback": [
      "\u001b[1;31m---------------------------------------------------------------------------\u001b[0m",
      "\u001b[1;31mKeyError\u001b[0m                                  Traceback (most recent call last)",
      "\u001b[1;32m<ipython-input-118-d1fcc66aba4e>\u001b[0m in \u001b[0;36m<module>\u001b[1;34m()\u001b[0m\n\u001b[0;32m     10\u001b[0m \u001b[0mconnection\u001b[0m\u001b[1;33m.\u001b[0m\u001b[0mrequest\u001b[0m\u001b[1;33m(\u001b[0m\u001b[1;34m'GET'\u001b[0m\u001b[1;33m,\u001b[0m \u001b[1;34m'/v1/teams/'\u001b[0m\u001b[1;33m+\u001b[0m\u001b[0mstr\u001b[0m\u001b[1;33m(\u001b[0m\u001b[0mi\u001b[0m\u001b[1;33m)\u001b[0m\u001b[1;33m,\u001b[0m \u001b[0mNone\u001b[0m\u001b[1;33m,\u001b[0m \u001b[0mheaders\u001b[0m \u001b[1;33m)\u001b[0m\u001b[1;33m\u001b[0m\u001b[0m\n\u001b[0;32m     11\u001b[0m \u001b[0mresponse\u001b[0m \u001b[1;33m=\u001b[0m \u001b[0mjson\u001b[0m\u001b[1;33m.\u001b[0m\u001b[0mloads\u001b[0m\u001b[1;33m(\u001b[0m\u001b[0mconnection\u001b[0m\u001b[1;33m.\u001b[0m\u001b[0mgetresponse\u001b[0m\u001b[1;33m(\u001b[0m\u001b[1;33m)\u001b[0m\u001b[1;33m.\u001b[0m\u001b[0mread\u001b[0m\u001b[1;33m(\u001b[0m\u001b[1;33m)\u001b[0m\u001b[1;33m)\u001b[0m\u001b[1;33m\u001b[0m\u001b[0m\n\u001b[1;32m---> 12\u001b[1;33m \u001b[1;32mprint\u001b[0m \u001b[0mresponse\u001b[0m\u001b[1;33m[\u001b[0m\u001b[1;34m'name'\u001b[0m\u001b[1;33m]\u001b[0m\u001b[1;33m\u001b[0m\u001b[0m\n\u001b[0m\u001b[0;32m     13\u001b[0m \u001b[0mteam_list\u001b[0m\u001b[1;33m[\u001b[0m\u001b[0mi\u001b[0m\u001b[1;33m]\u001b[0m \u001b[1;33m=\u001b[0m \u001b[0mresponse\u001b[0m\u001b[1;33m[\u001b[0m\u001b[1;34m'name'\u001b[0m\u001b[1;33m]\u001b[0m\u001b[1;33m\u001b[0m\u001b[0m\n\u001b[0;32m     14\u001b[0m \u001b[1;33m\u001b[0m\u001b[0m\n",
      "\u001b[1;31mKeyError\u001b[0m: 'name'"
     ]
    }
   ],
   "source": [
    "import httplib\n",
    "import json\n",
    "\n",
    "\"\"\"JSON connection to get Squad for all the Football teams.Get API_KEY from api.football-data.org and \n",
    "use the key to for Authentication, GET request can be made to get the data from the source \"\"\"\n",
    "\n",
    "connection = httplib.HTTPConnection('api.football-data.org')\n",
    "headers = { 'X-Auth-Token': '8b77035b2d1042a5a3d578759653882c', 'X-Response-Control': 'minified' }\n",
    "for i in range(116,205):\n",
    "    connection.request('GET', '/v1/teams/'+str(i), None, headers )\n",
    "    response = json.loads(connection.getresponse().read())\n",
    "    print response['name']\n",
    "    team_list[i] = response['name'].\n"
   ]
  },
  {
   "cell_type": "code",
   "execution_count": 191,
   "metadata": {
    "collapsed": false
   },
   "outputs": [],
   "source": [
    "def get_squad(team):\n",
    "    \"\"\"Get the current squad from football.org `\"\"\"\n",
    "    indx=[]\n",
    "    squad=[]\n",
    "    print team\n",
    "    for k,v in team_list.items():\n",
    "        if v.encode('utf-8').lower().__contains__(team.lower()):\n",
    "            print k,v\n",
    "            indx=k\n",
    "\n",
    "    connection = httplib.HTTPConnection('api.football-data.org')\n",
    "    headers = { 'X-Auth-Token': '8b77035b2d1042a5a3d578759653882c', 'X-Response-Control': 'minified' }\n",
    "    connection.request('GET', '/v1/teams/'+str(indx)+'/players', None, headers )\n",
    "    response = json.loads(connection.getresponse().read())\n",
    "    for p in response[\"players\"]:\n",
    "         squad.append(p['name'].encode('utf-8'))\n",
    "    return squad"
   ]
  },
  {
   "cell_type": "code",
   "execution_count": 192,
   "metadata": {
    "collapsed": false
   },
   "outputs": [
    {
     "name": "stdout",
     "output_type": "stream",
     "text": [
      "norwich\n",
      "68 Norwich City FC\n",
      "liverpool\n",
      "64 Liverpool FC\n"
     ]
    }
   ],
   "source": [
    "#This is the primary input place where we can give the teams who are playing the match Eg. Norwich City FC vs Liverpool FC\n",
    "players = get_squad(\"norwich\")+get_squad(\"liverpool\") "
   ]
  },
  {
   "cell_type": "code",
   "execution_count": 212,
   "metadata": {
    "collapsed": false
   },
   "outputs": [],
   "source": [
    "\"\"\"Get all the tweets using the already established Twitter Connection via Twitter API\n",
    "Keeping a max count of 200 tweets per player, this can be increased as an when required\"\"\"\n",
    "\n",
    "for player in players:\n",
    "    request = twitter.request('search/tweets', {'q': player , 'count':200}) \n",
    "    if request.status_code == 200:\n",
    "        tweets[player]=[r['text'] for r in request]\n",
    "    else:\n",
    "        print >> sys.stderr, 'Got error:', request.text, '\\nsleeping for 15 minutes.'\n",
    "        sys.stderr.flush()\n",
    "        time.sleep(61 * 15)\n"
   ]
  },
  {
   "cell_type": "code",
   "execution_count": 242,
   "metadata": {
    "collapsed": false
   },
   "outputs": [],
   "source": [
    "\"\"\"Sentimental Analysis using  AFINN , retrieve woords and their corresponding sentimental value  \"\"\"\n",
    "from StringIO import StringIO\n",
    "from zipfile import ZipFile\n",
    "from urllib import urlopen\n",
    "\n",
    "url = urlopen('http://www2.compute.dtu.dk/~faan/data/AFINN.zip')\n",
    "zipfile = ZipFile(StringIO(url.read()))\n",
    "afinn_file = zipfile.open('AFINN/AFINN-111.txt')\n",
    "\n",
    "afinn = dict()\n",
    "\n",
    "for line in afinn_file:\n",
    "    parts = line.strip().split()\n",
    "    if len(parts) == 2:\n",
    "        afinn[parts[0]] = int(parts[1])"
   ]
  },
  {
   "cell_type": "code",
   "execution_count": 249,
   "metadata": {
    "collapsed": true
   },
   "outputs": [],
   "source": [
    "# How do we score a tweet?\n",
    "def afinn_sentiment(terms, afinn):\n",
    "    total = 0.\n",
    "    for t in terms:\n",
    "        if t in afinn:\n",
    "            #print '\\t%s=%d' % (t, afinn[t])\n",
    "            total += afinn[t]\n",
    "    return total"
   ]
  },
  {
   "cell_type": "code",
   "execution_count": 318,
   "metadata": {
    "collapsed": true
   },
   "outputs": [],
   "source": [
    "\"\"\"Tokenize the tweets and get the sentimental value for each tweet and get the final score  \"\"\"\n",
    "def value_of_a_player(tweets,afinn):\n",
    "    value=0.0\n",
    "    for tweet in tweets:\n",
    "        text=tweet.split()\n",
    "        value+=afinn_sentiment(text,afinn)\n",
    "    return value/len(tweets)"
   ]
  },
  {
   "cell_type": "code",
   "execution_count": 319,
   "metadata": {
    "collapsed": false
   },
   "outputs": [],
   "source": [
    "ranking=[]\n",
    "for player in players:\n",
    "    ranking.append((player,value_of_a_player(tweets[player],afinn)))"
   ]
  },
  {
   "cell_type": "code",
   "execution_count": 323,
   "metadata": {
    "collapsed": false
   },
   "outputs": [
    {
     "name": "stdout",
     "output_type": "stream",
     "text": [
      "Fans Most Favorite  is  Adam Lallana  with a score of  2.19\n",
      "Fans least Favorite is  Christian Benteke  with a score of  -1.39\n"
     ]
    }
   ],
   "source": [
    "ranking.sort(key=lambda ranking: ranking[1])\n",
    "print \"Fans Most Favorite  is \",ranking[-1][0], \" with a score of \",ranking[-1][1]\n",
    "print \"Fans least Favorite is \",ranking[0][0],\" with a score of \",ranking[0][1]"
   ]
  },
  {
   "cell_type": "code",
   "execution_count": 325,
   "metadata": {
    "collapsed": true
   },
   "outputs": [
    {
     "data": {
      "text/plain": [
       "[('Christian Benteke', -1.39),\n",
       " ('\\xc3\\x81d\\xc3\\xa1m Bogd\\xc3\\xa1n', -1.37),\n",
       " (\"Gary O'Neil\", -0.86),\n",
       " ('Daniel Sturridge', -0.71),\n",
       " ('Steven Whittaker', -0.61),\n",
       " ('Danny Ings', -0.38),\n",
       " ('S\\xc3\\xa9bastien Bassong', -0.32),\n",
       " ('Emre Can', -0.21),\n",
       " ('Wesley Hoolahan', -0.17204301075268819),\n",
       " ('Dejan Lovren', -0.15217391304347827),\n",
       " ('Jake Kean', -0.125),\n",
       " ('Declan Rudd', -0.1),\n",
       " ('Kolo Tour\\xc3\\xa9', -0.09),\n",
       " ('Alberto Moreno', -0.06),\n",
       " ('Graham Dorrans', -0.030303030303030304),\n",
       " ('Josh Murphy', -0.02),\n",
       " ('Youssuf Mulumbu', 0.0),\n",
       " ('Jonathan Howson', 0.0),\n",
       " ('Martin Skrtel', 0.06),\n",
       " ('James Milner', 0.06),\n",
       " ('Jordan Henderson', 0.061855670103092786),\n",
       " ('Russell Martin', 0.08),\n",
       " ('Dieumerci Mbokani', 0.09),\n",
       " ('Alexander Tettey', 0.1),\n",
       " ('Andre Wisdom', 0.13580246913580246),\n",
       " ('Ryan Bennett', 0.14),\n",
       " ('Jordon Ibe', 0.17),\n",
       " ('Divock Origi', 0.18),\n",
       " ('John Ruddy', 0.22),\n",
       " ('Elliott Bennett', 0.2222222222222222),\n",
       " ('Cameron Jerome', 0.23),\n",
       " ('Martin Olsson', 0.2608695652173913),\n",
       " ('Joe Allen', 0.27),\n",
       " ('Lewis Grabban', 0.28),\n",
       " ('Roberto Firmino', 0.28),\n",
       " ('Nathan Redmond', 0.29),\n",
       " ('Jos\\xc3\\xa9 Enrique', 0.29),\n",
       " ('Nathaniel Clyne', 0.2972972972972973),\n",
       " ('Jo\\xc3\\xa3o Carlos Teixeira', 0.3333333333333333),\n",
       " ('Coutinho', 0.4),\n",
       " ('Robbie Brady', 0.42),\n",
       " ('Matt Jarvis', 0.47),\n",
       " ('Mamadou Sakho', 0.49),\n",
       " ('Joe Gomez', 0.54),\n",
       " ('Kyle Lafferty', 0.55),\n",
       " ('Lucas Leiva', 0.72),\n",
       " ('Jordan Rossiter', 0.73),\n",
       " ('Jon Flanagan', 0.75),\n",
       " ('Gary Hooper', 0.86),\n",
       " ('Simon Mignolet', 1.55),\n",
       " ('Harry Toffolo', 1.68),\n",
       " ('Adam Lallana', 2.19)]"
      ]
     },
     "execution_count": 325,
     "metadata": {},
     "output_type": "execute_result"
    }
   ],
   "source": [
    "ranking"
   ]
  },
  {
   "cell_type": "code",
   "execution_count": null,
   "metadata": {
    "collapsed": true
   },
   "outputs": [],
   "source": []
  }
 ],
 "metadata": {
  "kernelspec": {
   "display_name": "Python 2",
   "language": "python",
   "name": "python2"
  },
  "language_info": {
   "codemirror_mode": {
    "name": "ipython",
    "version": 2
   },
   "file_extension": ".py",
   "mimetype": "text/x-python",
   "name": "python",
   "nbconvert_exporter": "python",
   "pygments_lexer": "ipython2",
   "version": "2.7.10"
  }
 },
 "nbformat": 4,
 "nbformat_minor": 0
}
